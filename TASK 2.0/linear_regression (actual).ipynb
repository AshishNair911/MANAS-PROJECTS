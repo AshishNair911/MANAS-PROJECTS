{
 "cells": [
  {
   "cell_type": "code",
   "execution_count": 211,
   "id": "7d90430c-aeb9-4a14-b00e-57708cf64d01",
   "metadata": {},
   "outputs": [],
   "source": [
    "import numpy as np\n",
    "import pandas as pd\n",
    "import matplotlib.pyplot as p\n",
    "import seaborn as sns\n",
    "from scipy.stats import skew"
   ]
  },
  {
   "cell_type": "code",
   "execution_count": 213,
   "id": "6c461863-bc2d-426d-aaad-d7781429e7f0",
   "metadata": {},
   "outputs": [],
   "source": [
    "train_data = pd.read_csv(\"C:/Users/maila/OneDrive/Desktop/linear/train.csv\")\n",
    "test_data = pd.read_csv(\"C:/Users/maila/OneDrive/Desktop/linear/test.csv\")"
   ]
  },
  {
   "cell_type": "code",
   "execution_count": 215,
   "id": "4f953187-1c68-498c-a9e9-342a2030b8f7",
   "metadata": {},
   "outputs": [
    {
     "data": {
      "text/html": [
       "<div>\n",
       "<style scoped>\n",
       "    .dataframe tbody tr th:only-of-type {\n",
       "        vertical-align: middle;\n",
       "    }\n",
       "\n",
       "    .dataframe tbody tr th {\n",
       "        vertical-align: top;\n",
       "    }\n",
       "\n",
       "    .dataframe thead th {\n",
       "        text-align: right;\n",
       "    }\n",
       "</style>\n",
       "<table border=\"1\" class=\"dataframe\">\n",
       "  <thead>\n",
       "    <tr style=\"text-align: right;\">\n",
       "      <th></th>\n",
       "      <th>Unnamed: 0</th>\n",
       "      <th>Name</th>\n",
       "      <th>Location</th>\n",
       "      <th>Year</th>\n",
       "      <th>Kilometers_Driven</th>\n",
       "      <th>Fuel_Type</th>\n",
       "      <th>Transmission</th>\n",
       "      <th>Owner_Type</th>\n",
       "      <th>Mileage</th>\n",
       "      <th>Engine</th>\n",
       "      <th>Power</th>\n",
       "      <th>Seats</th>\n",
       "      <th>Price</th>\n",
       "    </tr>\n",
       "  </thead>\n",
       "  <tbody>\n",
       "    <tr>\n",
       "      <th>0</th>\n",
       "      <td>0</td>\n",
       "      <td>Tata Tiago 1.2 Revotron XZ WO Alloy</td>\n",
       "      <td>Hyderabad</td>\n",
       "      <td>2017</td>\n",
       "      <td>16500</td>\n",
       "      <td>Petrol</td>\n",
       "      <td>Manual</td>\n",
       "      <td>First</td>\n",
       "      <td>23.84 kmpl</td>\n",
       "      <td>1199 CC</td>\n",
       "      <td>84 bhp</td>\n",
       "      <td>5.0</td>\n",
       "      <td>5.00</td>\n",
       "    </tr>\n",
       "    <tr>\n",
       "      <th>1</th>\n",
       "      <td>1</td>\n",
       "      <td>Mahindra TUV 300 2015-2019 mHAWK100 T8 AMT</td>\n",
       "      <td>Kochi</td>\n",
       "      <td>2017</td>\n",
       "      <td>47357</td>\n",
       "      <td>Diesel</td>\n",
       "      <td>Automatic</td>\n",
       "      <td>First</td>\n",
       "      <td>18.49 kmpl</td>\n",
       "      <td>1493 CC</td>\n",
       "      <td>100 bhp</td>\n",
       "      <td>7.0</td>\n",
       "      <td>8.37</td>\n",
       "    </tr>\n",
       "    <tr>\n",
       "      <th>2</th>\n",
       "      <td>2</td>\n",
       "      <td>Skoda Rapid 2013-2016 1.6 MPI Ambition</td>\n",
       "      <td>Mumbai</td>\n",
       "      <td>2014</td>\n",
       "      <td>35000</td>\n",
       "      <td>Petrol</td>\n",
       "      <td>Manual</td>\n",
       "      <td>First</td>\n",
       "      <td>15.0 kmpl</td>\n",
       "      <td>1598 CC</td>\n",
       "      <td>103.52 bhp</td>\n",
       "      <td>5.0</td>\n",
       "      <td>4.50</td>\n",
       "    </tr>\n",
       "    <tr>\n",
       "      <th>3</th>\n",
       "      <td>3</td>\n",
       "      <td>Tata Indica V2 DLS BSII</td>\n",
       "      <td>Jaipur</td>\n",
       "      <td>2007</td>\n",
       "      <td>200000</td>\n",
       "      <td>Diesel</td>\n",
       "      <td>Manual</td>\n",
       "      <td>Second</td>\n",
       "      <td>17.2 kmpl</td>\n",
       "      <td>1396 CC</td>\n",
       "      <td>53.5 bhp</td>\n",
       "      <td>5.0</td>\n",
       "      <td>0.85</td>\n",
       "    </tr>\n",
       "    <tr>\n",
       "      <th>4</th>\n",
       "      <td>4</td>\n",
       "      <td>Tata Manza Club Class Quadrajet90 LX</td>\n",
       "      <td>Mumbai</td>\n",
       "      <td>2013</td>\n",
       "      <td>64000</td>\n",
       "      <td>Diesel</td>\n",
       "      <td>Manual</td>\n",
       "      <td>Second</td>\n",
       "      <td>21.02 kmpl</td>\n",
       "      <td>1248 CC</td>\n",
       "      <td>88.76 bhp</td>\n",
       "      <td>5.0</td>\n",
       "      <td>2.65</td>\n",
       "    </tr>\n",
       "  </tbody>\n",
       "</table>\n",
       "</div>"
      ],
      "text/plain": [
       "   Unnamed: 0                                        Name   Location  Year  \\\n",
       "0           0         Tata Tiago 1.2 Revotron XZ WO Alloy  Hyderabad  2017   \n",
       "1           1  Mahindra TUV 300 2015-2019 mHAWK100 T8 AMT      Kochi  2017   \n",
       "2           2      Skoda Rapid 2013-2016 1.6 MPI Ambition     Mumbai  2014   \n",
       "3           3                     Tata Indica V2 DLS BSII     Jaipur  2007   \n",
       "4           4        Tata Manza Club Class Quadrajet90 LX     Mumbai  2013   \n",
       "\n",
       "   Kilometers_Driven Fuel_Type Transmission Owner_Type     Mileage   Engine  \\\n",
       "0              16500    Petrol       Manual      First  23.84 kmpl  1199 CC   \n",
       "1              47357    Diesel    Automatic      First  18.49 kmpl  1493 CC   \n",
       "2              35000    Petrol       Manual      First   15.0 kmpl  1598 CC   \n",
       "3             200000    Diesel       Manual     Second   17.2 kmpl  1396 CC   \n",
       "4              64000    Diesel       Manual     Second  21.02 kmpl  1248 CC   \n",
       "\n",
       "        Power  Seats  Price  \n",
       "0      84 bhp    5.0   5.00  \n",
       "1     100 bhp    7.0   8.37  \n",
       "2  103.52 bhp    5.0   4.50  \n",
       "3    53.5 bhp    5.0   0.85  \n",
       "4   88.76 bhp    5.0   2.65  "
      ]
     },
     "execution_count": 215,
     "metadata": {},
     "output_type": "execute_result"
    }
   ],
   "source": [
    "train_data.head(5)"
   ]
  },
  {
   "cell_type": "code",
   "execution_count": 217,
   "id": "0dc9b5d5-e958-4c9c-98a2-36d014dfc3ea",
   "metadata": {},
   "outputs": [
    {
     "data": {
      "text/html": [
       "<div>\n",
       "<style scoped>\n",
       "    .dataframe tbody tr th:only-of-type {\n",
       "        vertical-align: middle;\n",
       "    }\n",
       "\n",
       "    .dataframe tbody tr th {\n",
       "        vertical-align: top;\n",
       "    }\n",
       "\n",
       "    .dataframe thead th {\n",
       "        text-align: right;\n",
       "    }\n",
       "</style>\n",
       "<table border=\"1\" class=\"dataframe\">\n",
       "  <thead>\n",
       "    <tr style=\"text-align: right;\">\n",
       "      <th></th>\n",
       "      <th>Unnamed: 0</th>\n",
       "      <th>Name</th>\n",
       "      <th>Location</th>\n",
       "      <th>Year</th>\n",
       "      <th>Kilometers_Driven</th>\n",
       "      <th>Fuel_Type</th>\n",
       "      <th>Transmission</th>\n",
       "      <th>Owner_Type</th>\n",
       "      <th>Mileage</th>\n",
       "      <th>Engine</th>\n",
       "      <th>Power</th>\n",
       "      <th>Seats</th>\n",
       "      <th>Price</th>\n",
       "    </tr>\n",
       "  </thead>\n",
       "  <tbody>\n",
       "    <tr>\n",
       "      <th>0</th>\n",
       "      <td>0</td>\n",
       "      <td>Maruti Swift Dzire VDI</td>\n",
       "      <td>Hyderabad</td>\n",
       "      <td>2013</td>\n",
       "      <td>84175</td>\n",
       "      <td>Diesel</td>\n",
       "      <td>Manual</td>\n",
       "      <td>First</td>\n",
       "      <td>23.4 kmpl</td>\n",
       "      <td>1248 CC</td>\n",
       "      <td>74 bhp</td>\n",
       "      <td>5.0</td>\n",
       "      <td>6.95</td>\n",
       "    </tr>\n",
       "    <tr>\n",
       "      <th>1</th>\n",
       "      <td>1</td>\n",
       "      <td>Hyundai i10 Sportz AT</td>\n",
       "      <td>Delhi</td>\n",
       "      <td>2012</td>\n",
       "      <td>62282</td>\n",
       "      <td>Petrol</td>\n",
       "      <td>Automatic</td>\n",
       "      <td>First</td>\n",
       "      <td>16.95 kmpl</td>\n",
       "      <td>1197 CC</td>\n",
       "      <td>78.9 bhp</td>\n",
       "      <td>5.0</td>\n",
       "      <td>2.90</td>\n",
       "    </tr>\n",
       "    <tr>\n",
       "      <th>2</th>\n",
       "      <td>2</td>\n",
       "      <td>Hyundai Elite i20 Sportz Plus</td>\n",
       "      <td>Kochi</td>\n",
       "      <td>2017</td>\n",
       "      <td>37460</td>\n",
       "      <td>Petrol</td>\n",
       "      <td>Manual</td>\n",
       "      <td>First</td>\n",
       "      <td>18.6 kmpl</td>\n",
       "      <td>1197 CC</td>\n",
       "      <td>81.86 bhp</td>\n",
       "      <td>5.0</td>\n",
       "      <td>6.28</td>\n",
       "    </tr>\n",
       "    <tr>\n",
       "      <th>3</th>\n",
       "      <td>3</td>\n",
       "      <td>Volvo XC60 D5</td>\n",
       "      <td>Pune</td>\n",
       "      <td>2011</td>\n",
       "      <td>106976</td>\n",
       "      <td>Diesel</td>\n",
       "      <td>Automatic</td>\n",
       "      <td>First</td>\n",
       "      <td>13.5 kmpl</td>\n",
       "      <td>2400 CC</td>\n",
       "      <td>215 bhp</td>\n",
       "      <td>5.0</td>\n",
       "      <td>13.80</td>\n",
       "    </tr>\n",
       "    <tr>\n",
       "      <th>4</th>\n",
       "      <td>4</td>\n",
       "      <td>Hyundai i10 Magna 1.2</td>\n",
       "      <td>Delhi</td>\n",
       "      <td>2013</td>\n",
       "      <td>60000</td>\n",
       "      <td>Petrol</td>\n",
       "      <td>Manual</td>\n",
       "      <td>First</td>\n",
       "      <td>20.36 kmpl</td>\n",
       "      <td>1197 CC</td>\n",
       "      <td>78.9 bhp</td>\n",
       "      <td>5.0</td>\n",
       "      <td>2.75</td>\n",
       "    </tr>\n",
       "  </tbody>\n",
       "</table>\n",
       "</div>"
      ],
      "text/plain": [
       "   Unnamed: 0                           Name   Location  Year  \\\n",
       "0           0         Maruti Swift Dzire VDI  Hyderabad  2013   \n",
       "1           1          Hyundai i10 Sportz AT      Delhi  2012   \n",
       "2           2  Hyundai Elite i20 Sportz Plus      Kochi  2017   \n",
       "3           3                  Volvo XC60 D5       Pune  2011   \n",
       "4           4          Hyundai i10 Magna 1.2      Delhi  2013   \n",
       "\n",
       "   Kilometers_Driven Fuel_Type Transmission Owner_Type     Mileage   Engine  \\\n",
       "0              84175    Diesel       Manual      First   23.4 kmpl  1248 CC   \n",
       "1              62282    Petrol    Automatic      First  16.95 kmpl  1197 CC   \n",
       "2              37460    Petrol       Manual      First   18.6 kmpl  1197 CC   \n",
       "3             106976    Diesel    Automatic      First   13.5 kmpl  2400 CC   \n",
       "4              60000    Petrol       Manual      First  20.36 kmpl  1197 CC   \n",
       "\n",
       "       Power  Seats  Price  \n",
       "0     74 bhp    5.0   6.95  \n",
       "1   78.9 bhp    5.0   2.90  \n",
       "2  81.86 bhp    5.0   6.28  \n",
       "3    215 bhp    5.0  13.80  \n",
       "4   78.9 bhp    5.0   2.75  "
      ]
     },
     "execution_count": 217,
     "metadata": {},
     "output_type": "execute_result"
    }
   ],
   "source": [
    "test_data.head(5)"
   ]
  },
  {
   "cell_type": "code",
   "execution_count": 219,
   "id": "cf211340-e946-4e8e-bf5f-12318f40dd6f",
   "metadata": {},
   "outputs": [
    {
     "name": "stdout",
     "output_type": "stream",
     "text": [
      "<class 'pandas.core.frame.DataFrame'>\n",
      "RangeIndex: 3750 entries, 0 to 3749\n",
      "Data columns (total 13 columns):\n",
      " #   Column             Non-Null Count  Dtype  \n",
      "---  ------             --------------  -----  \n",
      " 0   Unnamed: 0         3750 non-null   int64  \n",
      " 1   Name               3750 non-null   object \n",
      " 2   Location           3750 non-null   object \n",
      " 3   Year               3750 non-null   int64  \n",
      " 4   Kilometers_Driven  3750 non-null   int64  \n",
      " 5   Fuel_Type          3750 non-null   object \n",
      " 6   Transmission       3750 non-null   object \n",
      " 7   Owner_Type         3750 non-null   object \n",
      " 8   Mileage            3749 non-null   object \n",
      " 9   Engine             3722 non-null   object \n",
      " 10  Power              3722 non-null   object \n",
      " 11  Seats              3718 non-null   float64\n",
      " 12  Price              3750 non-null   float64\n",
      "dtypes: float64(2), int64(3), object(8)\n",
      "memory usage: 381.0+ KB\n"
     ]
    }
   ],
   "source": [
    "train_data.info()"
   ]
  },
  {
   "cell_type": "code",
   "execution_count": 221,
   "id": "a69251f1-be08-40cb-8c92-423c056b1f9b",
   "metadata": {},
   "outputs": [
    {
     "data": {
      "text/plain": [
       "Unnamed: 0            0\n",
       "Name                  0\n",
       "Location              0\n",
       "Year                  0\n",
       "Kilometers_Driven     0\n",
       "Fuel_Type             0\n",
       "Transmission          0\n",
       "Owner_Type            0\n",
       "Mileage               1\n",
       "Engine               28\n",
       "Power                28\n",
       "Seats                32\n",
       "Price                 0\n",
       "dtype: int64"
      ]
     },
     "execution_count": 221,
     "metadata": {},
     "output_type": "execute_result"
    }
   ],
   "source": [
    "train_data.isnull().sum()"
   ]
  },
  {
   "cell_type": "code",
   "execution_count": 223,
   "id": "ccf325e3-cf40-4056-b4dc-8d80dcd0cabd",
   "metadata": {},
   "outputs": [],
   "source": [
    "train_data = train_data.drop(columns=[\"Unnamed: 0\"])\n",
    "test_data = test_data.drop(columns=[\"Unnamed: 0\"])"
   ]
  },
  {
   "cell_type": "code",
   "execution_count": 225,
   "id": "baa7b0d6-9c52-4cf4-88fa-67a94004cd66",
   "metadata": {},
   "outputs": [],
   "source": [
    "def preprocess_units(column, unit):\n",
    "    return column.str.replace(\" \" + unit, \"\", regex=False).replace(\"null\", None).astype(float)\n",
    "\n",
    "train_data[\"Mileage\"] = preprocess_units(train_data[\"Mileage\"], \"kmpl\")\n",
    "train_data[\"Engine\"] = preprocess_units(train_data[\"Engine\"], \"CC\")\n",
    "train_data[\"Power\"] = preprocess_units(train_data[\"Power\"], \"bhp\")\n",
    "\n",
    "test_data[\"Mileage\"] = preprocess_units(test_data[\"Mileage\"], \"kmpl\")\n",
    "test_data[\"Engine\"] = preprocess_units(test_data[\"Engine\"], \"CC\")\n",
    "test_data[\"Power\"] = preprocess_units(test_data[\"Power\"], \"bhp\")\n",
    "\n"
   ]
  },
  {
   "cell_type": "code",
   "execution_count": 227,
   "id": "6a557265-02c4-4676-8c27-20f74c2d0cdb",
   "metadata": {},
   "outputs": [],
   "source": [
    "X_train = train_data.drop(columns=[\"Price\", \"Name\"])\n",
    "y_train = train_data[\"Price\"]\n",
    "X_test = test_data.drop(columns=[\"Name\"])\n",
    "y_test = test_data[\"Price\"]"
   ]
  },
  {
   "cell_type": "code",
   "execution_count": 229,
   "id": "dc1bb576-3652-4513-b49c-5d159f37da1d",
   "metadata": {},
   "outputs": [
    {
     "name": "stdout",
     "output_type": "stream",
     "text": [
      "Location             3750\n",
      "Year                    0\n",
      "Kilometers_Driven       0\n",
      "Fuel_Type            3750\n",
      "Transmission         3750\n",
      "Owner_Type           3750\n",
      "Mileage                 1\n",
      "Engine                 28\n",
      "Power                  98\n",
      "Seats                  32\n",
      "dtype: int64\n"
     ]
    }
   ],
   "source": [
    "X_train = X_train.apply(pd.to_numeric, errors=\"coerce\")\n",
    "X_test = X_test.apply(pd.to_numeric, errors=\"coerce\") #converting to numeric datatype for all columns\n",
    "print(X_train.isnull().sum())"
   ]
  },
  {
   "cell_type": "code",
   "execution_count": 231,
   "id": "c092cdc3-8637-4432-a7d6-27251c4b050f",
   "metadata": {},
   "outputs": [],
   "source": [
    "def normalize_data(X):\n",
    "    return (X - X.mean()) / X.std() #normalizing the values to make it simpler to fit into the ml model"
   ]
  },
  {
   "cell_type": "code",
   "execution_count": 233,
   "id": "50d7dc4b-62b2-406f-a7b7-f2c4d3be0801",
   "metadata": {},
   "outputs": [],
   "source": [
    "class Linear_Regression:\n",
    "    \n",
    "\n",
    "    def __init__ (self , lr = 0.01 , n_iterations  = 10000 , regularization_constant  = 30):\n",
    "        self.lr = lr\n",
    "        self.n_iterations = n_iterations\n",
    "        self.weights = None\n",
    "        self.bias = None\n",
    "        self.costs = [] ## keeps track of a MSE in each iteration (which will be used later in the cost function vs epoch graph)\n",
    "        self.regularization_constant = regularization_constant\n",
    "\n",
    "    def fit(self, X,y):\n",
    "        number_of_samples , number_of_features  = X.shape\n",
    "        #starting off the gradient descent at w1,w2,...,w34 and bias at 0\n",
    "        self.weights = np.zeros(number_of_features)\n",
    "        self.bias = 0 \n",
    "        #gradient descent for 1000 iterations\n",
    "        \n",
    "        for _ in range(self.n_iterations):\n",
    "\n",
    "            y_predict  = np.dot(X , self.weights) + self.bias # we took X and self weights in that specific order since it is a matrix multiplication\n",
    "\n",
    "            dw  = (1/number_of_samples)*(  np.dot(X.T , y_predict  - y)) + (self.regularization_constant/number_of_samples)*(self.weights)\n",
    "            # here we had to take a transpose because the shape of X is 183,34 and y predict is 183, and for matrix multiplication\n",
    "            # we need 34,183 * 183, so we took transpose of matrix X\n",
    "            #self.regularization constant is the value of lambda\n",
    "            \n",
    "            db  = (1/number_of_samples)*np.sum(y_predict  - y )\n",
    "            #updating the weights\n",
    "            \n",
    "            self.weights =self.weights - self.lr*dw\n",
    "            self.bias= self.bias - self.lr*db\n",
    "            cost = (1 / (2 * number_of_samples)) * np.sum((y_predict - y) ** 2) + \\\n",
    "                   (self.regularization_constant / (2 * number_of_samples)) * np.sum(self.weights ** 2)\n",
    "            self.costs.append(cost) \n",
    "\n",
    "\n",
    "    def predict(self,X):\n",
    "        predictions  = np.dot(X,self.weights) +self.bias\n",
    "        return predictions"
   ]
  },
  {
   "cell_type": "code",
   "execution_count": 235,
   "id": "dc7abe14-5f0e-48fd-ac52-9528f4f874bd",
   "metadata": {},
   "outputs": [],
   "source": [
    "class Statistical_Methods:\n",
    "    def MSE(self, Y, Y_predicted):\n",
    "        return np.mean((Y - Y_predicted) ** 2)\n",
    "\n",
    "    def RMSE(self, Y, Y_predicted):\n",
    "        return np.sqrt(self.MSE(Y, Y_predicted))\n",
    "\n",
    "    def Rsquared(self, Y, Y_predicted):\n",
    "        total_variance = np.sum((Y - np.mean(Y)) ** 2)\n",
    "        unexplained_variance = np.sum((Y - Y_predicted) ** 2)\n",
    "        return 1 - (unexplained_variance / total_variance)"
   ]
  },
  {
   "cell_type": "code",
   "execution_count": 237,
   "id": "6c2e4486-b008-438a-8717-764bc7f55fca",
   "metadata": {},
   "outputs": [
    {
     "name": "stdout",
     "output_type": "stream",
     "text": [
      "NaN values in X_train after conversion: 15159\n",
      "NaN values in Y_train after conversion: 0\n",
      "NaN values in X_test after conversion: 5039\n",
      "NaN values in Y_test after conversion: 0\n"
     ]
    }
   ],
   "source": [
    "X_train = pd.DataFrame(X_train)\n",
    "y_train = pd.Series(y_train)\n",
    "X_test = pd.DataFrame(X_test)\n",
    "y_test = pd.Series(y_test)\n",
    "\n",
    "# Now, convert all columns in X_train and X_test to numeric\n",
    "X_train = X_train.apply(pd.to_numeric, errors='coerce')\n",
    "y_train = pd.to_numeric(y_train, errors='coerce')\n",
    "X_test = X_test.apply(pd.to_numeric, errors='coerce')\n",
    "y_test = pd.to_numeric(y_test, errors='coerce')\n",
    "\n",
    "# Check for NaN values after conversion and handle them\n",
    "print(\"NaN values in X_train after conversion:\", X_train.isna().sum().sum())\n",
    "print(\"NaN values in Y_train after conversion:\", y_train.isna().sum())\n",
    "print(\"NaN values in X_test after conversion:\", X_test.isna().sum().sum())\n",
    "print(\"NaN values in Y_test after conversion:\", y_test.isna().sum())\n",
    "\n",
    "# Fill NaN values with column means or drop them\n",
    "X_train = X_train.fillna(X_train.mean())\n",
    "y_train = y_train.fillna(y_train.mean())\n",
    "X_test = X_test.fillna(X_test.mean())\n",
    "y_test = y_test.fillna(y_test.mean())"
   ]
  },
  {
   "cell_type": "code",
   "execution_count": 239,
   "id": "23c54c9d-96f1-4819-b592-9d02b5a7ae7d",
   "metadata": {},
   "outputs": [
    {
     "name": "stderr",
     "output_type": "stream",
     "text": [
      "C:\\Users\\maila\\AppData\\Local\\Temp\\ipykernel_7204\\709432978.py:2: RuntimeWarning: Mean of empty slice\n",
      "  X_train = np.where(np.isnan(X_train), np.nanmean(X_train, axis=0), X_train)\n",
      "C:\\Users\\maila\\AppData\\Local\\Temp\\ipykernel_7204\\709432978.py:3: RuntimeWarning: Mean of empty slice\n",
      "  X_test = np.where(np.isnan(X_test), np.nanmean(X_test, axis=0), X_test)\n"
     ]
    }
   ],
   "source": [
    "# Replace NaNs with the mean of the columns\n",
    "X_train = np.where(np.isnan(X_train), np.nanmean(X_train, axis=0), X_train)\n",
    "X_test = np.where(np.isnan(X_test), np.nanmean(X_test, axis=0), X_test)"
   ]
  },
  {
   "cell_type": "code",
   "execution_count": 241,
   "id": "1d81cf15-94bc-4ead-8f00-0d7f2ed3ba7a",
   "metadata": {},
   "outputs": [
    {
     "name": "stdout",
     "output_type": "stream",
     "text": [
      "Non-numeric columns in X_train: RangeIndex(start=0, stop=0, step=1)\n"
     ]
    }
   ],
   "source": [
    "X_train = pd.DataFrame(X_train)\n",
    "X_test = pd.DataFrame(X_test)\n",
    "print(\"Non-numeric columns in X_train:\", X_train.select_dtypes(include=['object']).columns)"
   ]
  },
  {
   "cell_type": "code",
   "execution_count": 243,
   "id": "ee015d0e-52fa-4b87-8ca4-71ae4ed9ee3b",
   "metadata": {},
   "outputs": [],
   "source": [
    "for col in X_train.select_dtypes(include=['object']).columns:\n",
    "    X_train[col] = X_train[col].fillna(X_train[col].mode()[0])\n",
    "    X_test[col] = X_test[col].fillna(X_test[col].mode()[0])"
   ]
  },
  {
   "cell_type": "code",
   "execution_count": 245,
   "id": "50db317c-8915-44bd-94f7-6639d0b1d42d",
   "metadata": {},
   "outputs": [
    {
     "name": "stdout",
     "output_type": "stream",
     "text": [
      "NaN values in X_train after filling: 0\n",
      "NaN values in X_test after filling: 0\n"
     ]
    }
   ],
   "source": [
    "X_train = X_train.fillna(0)\n",
    "X_test = X_test.fillna(0)\n",
    "\n",
    "# Check again to make sure there are no NaNs left\n",
    "print(\"NaN values in X_train after filling:\", X_train.isna().sum().sum())\n",
    "print(\"NaN values in X_test after filling:\", X_test.isna().sum().sum())\n"
   ]
  },
  {
   "cell_type": "code",
   "execution_count": 247,
   "id": "8d448221-b4c3-4fb8-9a21-acec50b7fab4",
   "metadata": {},
   "outputs": [
    {
     "name": "stdout",
     "output_type": "stream",
     "text": [
      "(3750, 10) (1250, 11)\n"
     ]
    }
   ],
   "source": [
    "print(X_train.shape,X_test.shape)"
   ]
  },
  {
   "cell_type": "code",
   "execution_count": 249,
   "id": "81262d87-cf3b-42f8-ae08-59b4e45287e3",
   "metadata": {},
   "outputs": [],
   "source": [
    "X_test = X_test.drop(columns=[X_test.columns[-1]])"
   ]
  },
  {
   "cell_type": "code",
   "execution_count": 251,
   "id": "80fc6129-12bc-409b-980c-3f48579a7b45",
   "metadata": {},
   "outputs": [
    {
     "name": "stdout",
     "output_type": "stream",
     "text": [
      "(3750, 10) (1250, 10)\n"
     ]
    }
   ],
   "source": [
    "print(X_train.shape,X_test.shape)"
   ]
  },
  {
   "cell_type": "code",
   "execution_count": 253,
   "id": "783a1553-3e62-40bd-8b64-4caa95660dc2",
   "metadata": {},
   "outputs": [
    {
     "name": "stdout",
     "output_type": "stream",
     "text": [
      "NaN values in X_train: False\n",
      "NaN values in X_test: False\n",
      "NaN values in y_train: False\n",
      "NaN values in y_test: False\n",
      "Infinite values in X_train: False\n",
      "Infinite values in X_test: False\n",
      "Infinite values in y_train: False\n",
      "Infinite values in y_test: False\n"
     ]
    }
   ],
   "source": [
    "print(\"NaN values in X_train:\", np.any(np.isnan(X_train)))\n",
    "print(\"NaN values in X_test:\", np.any(np.isnan(X_test)))\n",
    "print(\"NaN values in y_train:\", np.any(np.isnan(y_train)))\n",
    "print(\"NaN values in y_test:\", np.any(np.isnan(y_test)))\n",
    "print(\"Infinite values in X_train:\", np.any(np.isinf(X_train)))\n",
    "print(\"Infinite values in X_test:\", np.any(np.isinf(X_test)))\n",
    "print(\"Infinite values in y_train:\", np.any(np.isinf(y_train)))\n",
    "print(\"Infinite values in y_test:\", np.any(np.isinf(y_test)))"
   ]
  },
  {
   "cell_type": "code",
   "execution_count": 255,
   "id": "1a631a62-1dfa-4c7a-b7ac-4126d5044746",
   "metadata": {},
   "outputs": [
    {
     "name": "stdout",
     "output_type": "stream",
     "text": [
      "Zero variance features in X_train: True\n"
     ]
    }
   ],
   "source": [
    "print(\"Zero variance features in X_train:\", np.any(np.std(X_train, axis=0) == 0))"
   ]
  },
  {
   "cell_type": "code",
   "execution_count": 257,
   "id": "12a8fffb-ed07-47d6-9835-6a6ee6dac0d2",
   "metadata": {},
   "outputs": [],
   "source": [
    "non_zero_variance_columns = np.std(X_train, axis=0) != 0\n",
    "X_train = X_train.loc[:, non_zero_variance_columns]\n",
    "X_test = X_test[X_train.columns]"
   ]
  },
  {
   "cell_type": "code",
   "execution_count": 259,
   "id": "26a79f05-558b-481c-a1c2-3d00c1eced5a",
   "metadata": {},
   "outputs": [
    {
     "name": "stdout",
     "output_type": "stream",
     "text": [
      "Zero variance features in X_train: False\n"
     ]
    }
   ],
   "source": [
    "print(\"Zero variance features in X_train:\", np.any(np.std(X_train, axis=0) == 0))"
   ]
  },
  {
   "cell_type": "code",
   "execution_count": 261,
   "id": "4112ebf5-8e36-40ce-b830-a041a5b67ac1",
   "metadata": {},
   "outputs": [],
   "source": [
    "X_train = (X_train - np.mean(X_train, axis=0)) / np.std(X_train, axis=0)\n",
    "X_test = (X_test - np.mean(X_test, axis=0)) / np.std(X_test, axis=0)"
   ]
  },
  {
   "cell_type": "code",
   "execution_count": 263,
   "id": "6b2986e0-a73e-4b37-b6ae-ca53d9abde5c",
   "metadata": {},
   "outputs": [
    {
     "name": "stdout",
     "output_type": "stream",
     "text": [
      "[ 2.23254985  2.19037276  7.68945034 ... 10.54683786  9.49715102\n",
      "  9.78790373]\n",
      "Mean Squared Error:\n",
      "41.96991192746939\n",
      "RMS ERROR\n",
      "6.478418937323318\n",
      "R^2 ERROR\n",
      "0.6614747745431129\n"
     ]
    }
   ],
   "source": [
    "linearreg = Linear_Regression()\n",
    "linearreg.fit(X_train , y_train)\n",
    "\n",
    "y_predicted  = linearreg.predict(X_test)\n",
    "print(y_predicted)\n",
    "checker = Statistical_Methods()\n",
    "print(\"Mean Squared Error:\")\n",
    "print(checker.MSE(y_test , y_predicted))\n",
    "\n",
    "print(\"RMS ERROR\")\n",
    "print(checker.RMSE(y_test , y_predicted))\n",
    "\n",
    "print(\"R^2 ERROR\")\n",
    "print(checker.Rsquared(y_test, y_predicted))"
   ]
  },
  {
   "cell_type": "code",
   "execution_count": null,
   "id": "25d5a10b-174d-47aa-816f-aa6c6b8691c6",
   "metadata": {},
   "outputs": [],
   "source": []
  }
 ],
 "metadata": {
  "kernelspec": {
   "display_name": "Python [conda env:base] *",
   "language": "python",
   "name": "conda-base-py"
  },
  "language_info": {
   "codemirror_mode": {
    "name": "ipython",
    "version": 3
   },
   "file_extension": ".py",
   "mimetype": "text/x-python",
   "name": "python",
   "nbconvert_exporter": "python",
   "pygments_lexer": "ipython3",
   "version": "3.12.7"
  }
 },
 "nbformat": 4,
 "nbformat_minor": 5
}
